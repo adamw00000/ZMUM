{
  "nbformat": 4,
  "nbformat_minor": 0,
  "metadata": {
    "colab": {
      "name": "FinalDuckCooker.ipynb",
      "provenance": [],
      "collapsed_sections": []
    },
    "kernelspec": {
      "name": "python3",
      "display_name": "Python 3"
    },
    "accelerator": "GPU"
  },
  "cells": [
    {
      "cell_type": "code",
      "metadata": {
        "id": "ZbJhMcdfwPbM",
        "colab_type": "code",
        "outputId": "ee860135-5429-4fb7-86da-f43afe03fca9",
        "colab": {
          "base_uri": "https://localhost:8080/",
          "height": 387
        }
      },
      "source": [
        "import numpy as np\n",
        "import pandas as pd\n",
        "import pickle\n",
        "from scipy import sparse\n",
        "\n",
        "from sklearn.pipeline import Pipeline, make_pipeline\n",
        "from sklearn.feature_extraction.text import TfidfVectorizer\n",
        "from sklearn.base import BaseEstimator, ClassifierMixin\n",
        "from sklearn.linear_model import LogisticRegression\n",
        "from sklearn.model_selection import cross_val_score\n",
        "from sklearn import metrics\n",
        "from sklearn.metrics import roc_auc_score\n",
        "from sklearn.model_selection import train_test_split\n",
        "\n",
        "from keras.preprocessing.text import Tokenizer\n",
        "from keras.preprocessing.sequence import pad_sequences\n",
        "from keras.layers import Dense, Input, LSTM, Embedding, Dropout, Activation, SpatialDropout1D, GRU\n",
        "from keras.layers import Bidirectional, GlobalAveragePooling1D, GlobalMaxPooling1D, concatenate\n",
        "from keras.models import Model\n",
        "from keras import initializers, regularizers, constraints, optimizers, layers\n",
        "from keras.utils import to_categorical\n",
        "from keras.callbacks import EarlyStopping, ModelCheckpoint, LearningRateScheduler\n",
        "%matplotlib inline\n",
        "\n",
        "filename = \"TheFinalDuck/WellCookedDuck\"\n",
        "\n",
        "# %%\n",
        "from google.colab import drive\n",
        "drive.mount('/content/gdrive', force_remount=True)\n",
        "root_dir = \"/content/gdrive/My Drive/Colab Notebooks/ZMUM/\"\n",
        "\n",
        "df = pd.read_csv(f'{root_dir}no_abbreviations_Train.csv')\n",
        "df = df[['opinion', 'rate']]\n",
        "\n",
        "train = df\n",
        "train['rate'].hist()\n",
        "\n",
        "train_samp = train.sample(frac = 1.0, random_state = 123)\n",
        "\n",
        "embed_size = 200 \n",
        "max_features = 20000\n",
        "maxlen = 200\n",
        "\n",
        "embedding_file = f'{root_dir}glove.twitter.27B.200d.txt'\n",
        "\n",
        "def get_coefs(word,*arr): \n",
        "  return word, np.asarray(arr, dtype='float32')\n",
        "    \n",
        "embeddings_index = dict(get_coefs(*o.strip().split()) for o in open(embedding_file, encoding=\"utf8\"))\n",
        "\n",
        "tokenizer = Tokenizer(num_words=max_features)\n",
        "tokenizer.fit_on_texts(list(train_samp['opinion'].values))\n",
        "\n",
        "with open(f'{root_dir}{filename}-tokenizer.pickle', 'wb') as handle:\n",
        "  pickle.dump(tokenizer, handle, protocol=pickle.HIGHEST_PROTOCOL)\n",
        "\n",
        "X_train = tokenizer.texts_to_sequences(train_samp['opinion'].values)\n",
        "x_train = pad_sequences(X_train, maxlen = maxlen)\n",
        "y_train = train_samp['rate'].values\n",
        "\n",
        "word_index = tokenizer.word_index\n",
        "\n",
        "nb_words = min(max_features, len(word_index))\n",
        "\n",
        "embedding_matrix = np.zeros((nb_words, embed_size))\n",
        "missed = []\n",
        "for word, i in word_index.items():\n",
        "    if i >= max_features: break\n",
        "    embedding_vector = embeddings_index.get(word)\n",
        "    if embedding_vector is not None:\n",
        "        embedding_matrix[i] = embedding_vector\n",
        "    else:\n",
        "        missed.append(word)"
      ],
      "execution_count": 0,
      "outputs": [
        {
          "output_type": "stream",
          "text": [
            "Using TensorFlow backend.\n"
          ],
          "name": "stderr"
        },
        {
          "output_type": "stream",
          "text": [
            "Go to this URL in a browser: https://accounts.google.com/o/oauth2/auth?client_id=947318989803-6bn6qk8qdgf4n4g3pfee6491hc0brc4i.apps.googleusercontent.com&redirect_uri=urn%3aietf%3awg%3aoauth%3a2.0%3aoob&response_type=code&scope=email%20https%3a%2f%2fwww.googleapis.com%2fauth%2fdocs.test%20https%3a%2f%2fwww.googleapis.com%2fauth%2fdrive%20https%3a%2f%2fwww.googleapis.com%2fauth%2fdrive.photos.readonly%20https%3a%2f%2fwww.googleapis.com%2fauth%2fpeopleapi.readonly\n",
            "\n",
            "Enter your authorization code:\n",
            "··········\n",
            "Mounted at /content/gdrive\n"
          ],
          "name": "stdout"
        },
        {
          "output_type": "display_data",
          "data": {
            "image/png": "[encoded data removed]",
            "text/plain": [
              "<Figure size 432x288 with 1 Axes>"
            ]
          },
          "metadata": {
            "tags": [],
            "needs_background": "light"
          }
        }
      ]
    },
    {
      "cell_type": "code",
      "metadata": {
        "id": "jmTzX4ztwtKG",
        "colab_type": "code",
        "outputId": "98ced3b1-0d26-4f18-aa29-cedd30db8d0d",
        "colab": {
          "base_uri": "https://localhost:8080/",
          "height": 561
        }
      },
      "source": [
        "inp = Input(shape = (maxlen,))\n",
        "x = Embedding(max_features, embed_size, weights = [embedding_matrix], trainable = True)(inp)\n",
        "x = SpatialDropout1D(0.5)(x)\n",
        "x = Bidirectional(LSTM(420, return_sequences=True))(x)\n",
        "x = Bidirectional(GRU(420, return_sequences=True))(x)\n",
        "x = SpatialDropout1D(0.4)(x)\n",
        "avg_pool = GlobalAveragePooling1D()(x)  \n",
        "max_pool = GlobalMaxPooling1D()(x)\n",
        "conc = concatenate([avg_pool, max_pool])\n",
        "hidden = Dense(120, activation = 'elu')(conc)\n",
        "outp = Dense(1)(hidden)\n",
        "\n",
        "model = Model(inputs = inp, outputs = outp)\n",
        "\n",
        "earlystop = EarlyStopping(monitor = 'val_loss', min_delta = 0, patience = 5)\n",
        "checkpoint = ModelCheckpoint(monitor = 'val_loss', save_best_only = True, filepath = f'{root_dir}{filename}-new.hdf5')\n",
        "model.compile(loss = 'mae', optimizer = 'adam', metrics = ['mae'])\n",
        "print(model.summary())\n",
        "model.load_weights(f'{root_dir}{filename}.hdf5')"
      ],
      "execution_count": 0,
      "outputs": [
        {
          "output_type": "stream",
          "text": [
            "Model: \"model_2\"\n",
            "__________________________________________________________________________________________________\n",
            "Layer (type)                    Output Shape         Param #     Connected to                     \n",
            "==================================================================================================\n",
            "input_2 (InputLayer)            (None, 200)          0                                            \n",
            "__________________________________________________________________________________________________\n",
            "embedding_2 (Embedding)         (None, 200, 200)     4000000     input_2[0][0]                    \n",
            "__________________________________________________________________________________________________\n",
            "spatial_dropout1d_3 (SpatialDro (None, 200, 200)     0           embedding_2[0][0]                \n",
            "__________________________________________________________________________________________________\n",
            "bidirectional_3 (Bidirectional) (None, 200, 840)     2086560     spatial_dropout1d_3[0][0]        \n",
            "__________________________________________________________________________________________________\n",
            "bidirectional_4 (Bidirectional) (None, 200, 840)     3177720     bidirectional_3[0][0]            \n",
            "__________________________________________________________________________________________________\n",
            "spatial_dropout1d_4 (SpatialDro (None, 200, 840)     0           bidirectional_4[0][0]            \n",
            "__________________________________________________________________________________________________\n",
            "global_average_pooling1d_2 (Glo (None, 840)          0           spatial_dropout1d_4[0][0]        \n",
            "__________________________________________________________________________________________________\n",
            "global_max_pooling1d_2 (GlobalM (None, 840)          0           spatial_dropout1d_4[0][0]        \n",
            "__________________________________________________________________________________________________\n",
            "concatenate_2 (Concatenate)     (None, 1680)         0           global_average_pooling1d_2[0][0] \n",
            "                                                                 global_max_pooling1d_2[0][0]     \n",
            "__________________________________________________________________________________________________\n",
            "dense_3 (Dense)                 (None, 120)          201720      concatenate_2[0][0]              \n",
            "__________________________________________________________________________________________________\n",
            "dense_4 (Dense)                 (None, 1)            121         dense_3[0][0]                    \n",
            "==================================================================================================\n",
            "Total params: 9,466,121\n",
            "Trainable params: 9,466,121\n",
            "Non-trainable params: 0\n",
            "__________________________________________________________________________________________________\n",
            "None\n"
          ],
          "name": "stdout"
        }
      ]
    },
    {
      "cell_type": "code",
      "metadata": {
        "id": "IidXBriawxTb",
        "colab_type": "code",
        "colab": {}
      },
      "source": [
        "np.save(f'{root_dir}{filename}-x_train.npy', x_train)\n",
        "np.save(f'{root_dir}{filename}-y_train.npy', y_train)\n"
      ],
      "execution_count": 0,
      "outputs": []
    },
    {
      "cell_type": "code",
      "metadata": {
        "id": "zDQ0hwbia7pM",
        "colab_type": "code",
        "outputId": "b3119512-60e0-4c42-b886-bbcb093b62a2",
        "colab": {
          "base_uri": "https://localhost:8080/",
          "height": 102
        }
      },
      "source": [
        "def lr_schedule(epoch):\n",
        "    lrate = 1e-6\n",
        "    if epoch > 8:\n",
        "        lrate = lrate/2\n",
        "    if epoch > 15:\n",
        "        lrate = lrate/2\n",
        "    if epoch > 20:\n",
        "        lrate = lrate/2\n",
        "    return lrate\n",
        "\n",
        "history = model.fit(x_train, y_train, batch_size = 512, epochs = 30, validation_split = 0.1,\n",
        "          callbacks=[earlystop, checkpoint, LearningRateScheduler(lr_schedule)])\n",
        "\n",
        "hist_df = pd.DataFrame(history.history)\n",
        "\n",
        "model_json = model.to_json()\n",
        "with open(f'{root_dir}{filename}-model.json', 'w+') as json_file:\n",
        "    json_file.write(model_json)\n",
        "with open(f'{root_dir}{filename}-history.json', 'w+') as f:\n",
        "    hist_df.to_json(f)\n",
        "model.save_weights(f'{root_dir}{filename}-end_model.h5') "
      ],
      "execution_count": 0,
      "outputs": [
        {
          "output_type": "stream",
          "text": [
            "Train on 135000 samples, validate on 15000 samples\n",
            "Epoch 1/30\n",
            "135000/135000 [==============================] - 461s 3ms/step - loss: 0.5057 - mae: 0.5057 - val_loss: 0.8489 - val_mae: 0.8489\n",
            "Epoch 2/30\n",
            " 60416/135000 [============>.................] - ETA: 4:07 - loss: 0.5075 - mae: 0.5075"
          ],
          "name": "stdout"
        }
      ]
    }
  ]
}